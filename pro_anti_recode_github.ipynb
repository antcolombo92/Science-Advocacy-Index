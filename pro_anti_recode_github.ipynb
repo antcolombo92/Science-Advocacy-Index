{
 "cells": [
  {
   "cell_type": "code",
   "execution_count": null,
   "metadata": {},
   "outputs": [],
   "source": [
    "import pandas as pd\n",
    "import os\n",
    "\n",
    "os.chdir('C:/Users/antco/Documents/SPEA/FALL 2018/Capstone/Senator Final DataFrame')\n",
    "votesdf = pd.read_csv('sen_votes_V3.csv')\n",
    "\n",
    "#create lists of pro and anti variables\n",
    "varlist=list(votesdf.columns.values)\n",
    "prolist=[i for i in varlist if 'pro' in i]\n",
    "antilist=[i for i in varlist if 'anti' in i]"
   ]
  },
  {
   "cell_type": "code",
   "execution_count": null,
   "metadata": {},
   "outputs": [],
   "source": [
    "#function for recoding pro variables\n",
    "#6 = nay, 1 = yay, 9 = absent\n",
    "def pro_recode(series):\n",
    "    if series == 1:\n",
    "        return 1\n",
    "    elif series == 6:\n",
    "        return -1\n",
    "    elif series == 9:\n",
    "        return 0\n",
    "\n",
    "#apply function to all bills in pro list\n",
    "for bill in prolist:\n",
    "    votesdf[bill+'_recode'] = votesdf[bill].apply(pro_recode)"
   ]
  },
  {
   "cell_type": "code",
   "execution_count": null,
   "metadata": {},
   "outputs": [],
   "source": [
    "#function for recoding anti variables\n",
    "#6 = nay, 1 = yay, 9 = absent\n",
    "def anti_recode(series):\n",
    "    if series == 1:\n",
    "        return -1\n",
    "    elif series == 6:\n",
    "        return 1\n",
    "    elif series == 9:\n",
    "        return 0\n",
    "\n",
    "#apply function to all bills in pro list\n",
    "for bill in antilist:\n",
    "    votesdf[bill+'_recode'] = votesdf[bill].apply(anti_recode)"
   ]
  }
 ],
 "metadata": {
  "kernelspec": {
   "display_name": "Python 3",
   "language": "python",
   "name": "python3"
  },
  "language_info": {
   "codemirror_mode": {
    "name": "ipython",
    "version": 3
   },
   "file_extension": ".py",
   "mimetype": "text/x-python",
   "name": "python",
   "nbconvert_exporter": "python",
   "pygments_lexer": "ipython3",
   "version": "3.6.3"
  }
 },
 "nbformat": 4,
 "nbformat_minor": 2
}
