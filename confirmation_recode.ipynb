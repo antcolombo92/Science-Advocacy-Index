{
 "cells": [
  {
   "cell_type": "code",
   "execution_count": 1,
   "metadata": {},
   "outputs": [],
   "source": [
    "import pandas as pd\n",
    "import os\n",
    "\n",
    "os.chdir('Directory')\n",
    "con_df = pd.read_csv('con_votesV2.csv')\n",
    "\n",
    "varlist=list(con_df.columns.values)\n",
    "prolist=[i for i in varlist if 'pro' in i]\n",
    "antilist=[i for i in varlist if 'anti' in i]"
   ]
  },
  {
   "cell_type": "code",
   "execution_count": 2,
   "metadata": {},
   "outputs": [],
   "source": [
    "def pro_recode(series):\n",
    "    if series == 'Y':\n",
    "        return 1\n",
    "    elif series == 'N':\n",
    "        return -1\n",
    "    elif series == 'A':\n",
    "        return 0\n",
    "\n",
    "for bill in prolist:\n",
    "    con_df[bill+'_recode'] = con_df[bill].apply(pro_recode)"
   ]
  },
  {
   "cell_type": "code",
   "execution_count": 3,
   "metadata": {},
   "outputs": [],
   "source": [
    "def anti_recode(series):\n",
    "    if series == 'Y':\n",
    "        return -1\n",
    "    elif series == 'N':\n",
    "        return 1\n",
    "    elif series == 'A':\n",
    "        return 0\n",
    "\n",
    "for bill in antilist:\n",
    "    con_df[bill+'_recode'] = con_df[bill].apply(anti_recode)"
   ]
  },
  {
   "cell_type": "code",
   "execution_count": 4,
   "metadata": {},
   "outputs": [],
   "source": [
    "con_df.to_excel(excel_writer='con_votes_recode.xls')"
   ]
  }
 ],
 "metadata": {
  "kernelspec": {
   "display_name": "Python 3",
   "language": "python",
   "name": "python3"
  },
  "language_info": {
   "codemirror_mode": {
    "name": "ipython",
    "version": 3
   },
   "file_extension": ".py",
   "mimetype": "text/x-python",
   "name": "python",
   "nbconvert_exporter": "python",
   "pygments_lexer": "ipython3",
   "version": "3.6.3"
  }
 },
 "nbformat": 4,
 "nbformat_minor": 2
}
