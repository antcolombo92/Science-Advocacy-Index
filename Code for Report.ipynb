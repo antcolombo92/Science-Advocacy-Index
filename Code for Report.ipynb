{
 "cells": [
  {
   "cell_type": "code",
   "execution_count": null,
   "metadata": {},
   "outputs": [],
   "source": [
    "import pandas as pd\n",
    "import os\n",
    "import glob\n",
    "from functools import reduce\n",
    "\n",
    "#path set to directory of xls files pulled from Vote View\n",
    "path = 'Directory/Bill Merge'\n",
    "extension = 'xls'\n",
    "os.chdir(path)\n",
    "csv_list = [i for i in glob.glob('*.{}'.format (extension))]\n",
    "\n",
    "for bill in csv_list:\n",
    "    df_1=pd.read_excel(bill)\n",
    "    df_1.rename(columns={'V1':bill.strip('.xls')}, inplace=True)\n",
    "    df_1.drop(['id','name','state_abbrev'], axis=1, inplace=True)\n",
    "    df_1.to_excel(excel_writer=bill)\n",
    "    \n",
    "files = os.listdir(path)\n",
    "files_xls = [os.path.join(path,i) for i in files if i.endswith('.xls')]\n",
    "dfs = [pd.read_excel(x) for x in files_xls]\n",
    "all_votes = reduce(lambda x,y: pd.merge(x,y,how='outer',on='icpsr'),dfs)\n",
    "all_votes.to_excel(excel_writer='senator_votes.xls')"
   ]
  }
 ],
 "metadata": {
  "kernelspec": {
   "display_name": "Python 3",
   "language": "python",
   "name": "python3"
  },
  "language_info": {
   "codemirror_mode": {
    "name": "ipython",
    "version": 3
   },
   "file_extension": ".py",
   "mimetype": "text/x-python",
   "name": "python",
   "nbconvert_exporter": "python",
   "pygments_lexer": "ipython3",
   "version": "3.6.3"
  }
 },
 "nbformat": 4,
 "nbformat_minor": 2
}
