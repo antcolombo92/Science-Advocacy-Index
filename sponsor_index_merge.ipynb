{
 "cells": [
  {
   "cell_type": "markdown",
   "metadata": {},
   "source": [
    "# clean sponsor data and write bills to individual files"
   ]
  },
  {
   "cell_type": "code",
   "execution_count": null,
   "metadata": {},
   "outputs": [],
   "source": [
    "import pandas as pd\n",
    "import os\n",
    "\n",
    "path = 'directory'\n",
    "os.chdir(path)\n",
    "df_1=pd.read_excel('sponsor.xlsx')\n",
    "\n",
    "for bill, df_1 in df_1.groupby('Bill'):\n",
    "    df_1.rename(columns={'adj_val':df_1.iat[0,5]}, inplace=True)\n",
    "    df_1.drop(['Bill','Session','Pro or Anti-Science','Pro_anti_num','pro_anti_re','Value','Date','Date_num',\n",
    "               'Date_diff','bill_ad','spon/co','weeks','Name'], axis=1, inplace=True)\n",
    "    df_1.to_excel(excel_writer='Separate Bills V3/'+str(bill+'.xls'))"
   ]
  },
  {
   "cell_type": "markdown",
   "metadata": {},
   "source": [
    "# merge for row totals for each senator by icpsr"
   ]
  },
  {
   "cell_type": "code",
   "execution_count": null,
   "metadata": {},
   "outputs": [],
   "source": [
    "from functools import reduce\n",
    "\n",
    "path2 = 'C:/Users/antco/Documents/SPEA/FALL 2018/Capstone/Sponsor/Separate Bills V3'\n",
    "files = os.listdir(path2)\n",
    "\n",
    "files_xls = [os.path.join(path2,i) for i in files if i.endswith('.xls')]\n",
    "\n",
    "dfs = [pd.read_excel(x) for x in files_xls]\n",
    "all_spon = reduce(lambda x,y: pd.merge(x,y,how='outer', on='ICPSR'),dfs)\n",
    "                  \n",
    "\n",
    "all_spon.to_excel(excel_writer=path+'/sponsor_mergeV3.xls')"
   ]
  }
 ],
 "metadata": {
  "kernelspec": {
   "display_name": "Python 3",
   "language": "python",
   "name": "python3"
  },
  "language_info": {
   "codemirror_mode": {
    "name": "ipython",
    "version": 3
   },
   "file_extension": ".py",
   "mimetype": "text/x-python",
   "name": "python",
   "nbconvert_exporter": "python",
   "pygments_lexer": "ipython3",
   "version": "3.6.3"
  }
 },
 "nbformat": 4,
 "nbformat_minor": 2
}
